{
 "cells": [
  {
   "cell_type": "code",
   "execution_count": 1,
   "id": "889ba264",
   "metadata": {},
   "outputs": [],
   "source": [
    "import numpy as np\n",
    "import pandas as pd \n",
    "import scipy\n",
    "from scipy import stats"
   ]
  },
  {
   "cell_type": "code",
   "execution_count": 2,
   "id": "1513360f",
   "metadata": {},
   "outputs": [],
   "source": [
    "GAs=pd.read_csv('/fetal/Fetal_temp_GA.csv')"
   ]
  },
  {
   "cell_type": "code",
   "execution_count": 3,
   "id": "1a2b694e",
   "metadata": {},
   "outputs": [],
   "source": [
    "GAs_controls = GAs[GAs['Group']==0]['GA at fetal scan']\n",
    "GAs_controls_used = GAs[(GAs['Group']==0)&(GAs['Used']==1)]['GA at fetal scan']\n",
    "GAs_cardiac = GAs[(GAs['Group']==1)]['GA at fetal scan']\n",
    "GAs_cardiac_used = GAs[(GAs['Group']==1)&(GAs['Used']==1)]['GA at fetal scan']"
   ]
  },
  {
   "cell_type": "code",
   "execution_count": 4,
   "id": "93015eee",
   "metadata": {},
   "outputs": [
    {
     "data": {
      "text/plain": [
       "Ttest_indResult(statistic=0.07567409156713438, pvalue=0.9401578798628376)"
      ]
     },
     "execution_count": 4,
     "metadata": {},
     "output_type": "execute_result"
    }
   ],
   "source": [
    "scipy.stats.ttest_ind(GAs_controls,GAs_cardiac,equal_var=False)"
   ]
  },
  {
   "cell_type": "code",
   "execution_count": 5,
   "id": "891f2f92",
   "metadata": {},
   "outputs": [
    {
     "data": {
      "text/plain": [
       "Ttest_indResult(statistic=-0.531059416660938, pvalue=0.6004882277848985)"
      ]
     },
     "execution_count": 5,
     "metadata": {},
     "output_type": "execute_result"
    }
   ],
   "source": [
    "scipy.stats.ttest_ind(GAs_controls_used,GAs_cardiac_used,equal_var=False)"
   ]
  }
 ],
 "metadata": {
  "kernelspec": {
   "display_name": "Python 3",
   "language": "python",
   "name": "python3"
  },
  "language_info": {
   "codemirror_mode": {
    "name": "ipython",
    "version": 3
   },
   "file_extension": ".py",
   "mimetype": "text/x-python",
   "name": "python",
   "nbconvert_exporter": "python",
   "pygments_lexer": "ipython3",
   "version": "3.9.4"
  }
 },
 "nbformat": 4,
 "nbformat_minor": 5
}
